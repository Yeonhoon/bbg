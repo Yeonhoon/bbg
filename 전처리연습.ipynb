{
 "metadata": {
  "language_info": {
   "codemirror_mode": {
    "name": "ipython",
    "version": 3
   },
   "file_extension": ".py",
   "mimetype": "text/x-python",
   "name": "python",
   "nbconvert_exporter": "python",
   "pygments_lexer": "ipython3",
   "version": "3.7.10"
  },
  "orig_nbformat": 4,
  "kernelspec": {
   "name": "cuda",
   "display_name": "Python 3.7.10 64-bit ('cuda': conda)"
  }
 },
 "nbformat": 4,
 "nbformat_minor": 2,
 "cells": [
  {
   "cell_type": "code",
   "execution_count": 21,
   "metadata": {},
   "outputs": [],
   "source": [
    "import pandas as pd\n",
    "import numpy as np\n",
    "from sklearn.neural_network import MLPClassifier\n",
    "from sklearn.ensemble import RandomForestClassifier\n",
    "from sklearn.preprocessing import LabelEncoder, minmax_scale, maxabs_scale, robust_scale\n",
    "from sklearn.metrics import roc_auc_score,recall_score, accuracy_score\n",
    "from sklearn.linear_model import LogisticRegression\n",
    "from sklearn.svm import SVC"
   ]
  },
  {
   "cell_type": "code",
   "execution_count": 23,
   "metadata": {},
   "outputs": [],
   "source": []
  },
  {
   "cell_type": "code",
   "execution_count": 24,
   "metadata": {},
   "outputs": [],
   "source": []
  },
  {
   "cell_type": "code",
   "execution_count": 25,
   "metadata": {},
   "outputs": [],
   "source": []
  },
  {
   "cell_type": "code",
   "execution_count": 26,
   "metadata": {},
   "outputs": [
    {
     "output_type": "execute_result",
     "data": {
      "text/plain": [
       "        총구매액     최대구매액       환불금액 주구매상품 주구매지점  내점일수    내점당구매건수    주말방문비율  구매주기\n",
       "0   70900400  22000000   70900400    골프  부산본점    13   1.461538  0.789474    26\n",
       "1  310533100  38558000  310533100   농산물   잠실점    90   2.433333  0.369863     3\n",
       "2  305264140  14825000  305264140  가공식품  본  점   101  14.623762  0.083277     3\n",
       "3    7594080   5225000    7594080  주방용품  부산본점     5   2.000000  0.000000    47\n",
       "4    1795790   1411200    1795790   수산품  청량리점     3   2.666667  0.125000     8"
      ],
      "text/html": "<div>\n<style scoped>\n    .dataframe tbody tr th:only-of-type {\n        vertical-align: middle;\n    }\n\n    .dataframe tbody tr th {\n        vertical-align: top;\n    }\n\n    .dataframe thead th {\n        text-align: right;\n    }\n</style>\n<table border=\"1\" class=\"dataframe\">\n  <thead>\n    <tr style=\"text-align: right;\">\n      <th></th>\n      <th>총구매액</th>\n      <th>최대구매액</th>\n      <th>환불금액</th>\n      <th>주구매상품</th>\n      <th>주구매지점</th>\n      <th>내점일수</th>\n      <th>내점당구매건수</th>\n      <th>주말방문비율</th>\n      <th>구매주기</th>\n    </tr>\n  </thead>\n  <tbody>\n    <tr>\n      <th>0</th>\n      <td>70900400</td>\n      <td>22000000</td>\n      <td>70900400</td>\n      <td>골프</td>\n      <td>부산본점</td>\n      <td>13</td>\n      <td>1.461538</td>\n      <td>0.789474</td>\n      <td>26</td>\n    </tr>\n    <tr>\n      <th>1</th>\n      <td>310533100</td>\n      <td>38558000</td>\n      <td>310533100</td>\n      <td>농산물</td>\n      <td>잠실점</td>\n      <td>90</td>\n      <td>2.433333</td>\n      <td>0.369863</td>\n      <td>3</td>\n    </tr>\n    <tr>\n      <th>2</th>\n      <td>305264140</td>\n      <td>14825000</td>\n      <td>305264140</td>\n      <td>가공식품</td>\n      <td>본  점</td>\n      <td>101</td>\n      <td>14.623762</td>\n      <td>0.083277</td>\n      <td>3</td>\n    </tr>\n    <tr>\n      <th>3</th>\n      <td>7594080</td>\n      <td>5225000</td>\n      <td>7594080</td>\n      <td>주방용품</td>\n      <td>부산본점</td>\n      <td>5</td>\n      <td>2.000000</td>\n      <td>0.000000</td>\n      <td>47</td>\n    </tr>\n    <tr>\n      <th>4</th>\n      <td>1795790</td>\n      <td>1411200</td>\n      <td>1795790</td>\n      <td>수산품</td>\n      <td>청량리점</td>\n      <td>3</td>\n      <td>2.666667</td>\n      <td>0.125000</td>\n      <td>8</td>\n    </tr>\n  </tbody>\n</table>\n</div>"
     },
     "metadata": {},
     "execution_count": 26
    }
   ],
   "source": [
    "x_test.head()"
   ]
  },
  {
   "cell_type": "code",
   "execution_count": 27,
   "metadata": {},
   "outputs": [],
   "source": [
    "# 스케일링\n",
    "x_train['주구매상품'].head()\n",
    "x_train[['주구매상품','주구매지점']]= x_train.loc[:,['주구매상품','주구매지점']].apply(LabelEncoder().fit_transform)\n",
    "x_test[['주구매상품','주구매지점']]= x_test.loc[:,['주구매상품','주구매지점']].apply(LabelEncoder().fit_transform)"
   ]
  },
  {
   "cell_type": "code",
   "execution_count": 28,
   "metadata": {},
   "outputs": [
    {
     "output_type": "execute_result",
     "data": {
      "text/plain": [
       "       총구매액     최대구매액      환불금액  주구매상품  주구매지점  내점일수   내점당구매건수    주말방문비율  구매주기\n",
       "0  68282840  11264000  68282840      5      0    19  3.894737  0.527027    17\n",
       "1   2136000   2136000   2136000     21     19     2  1.500000  0.000000     1\n",
       "2   3197000   1639000   3197000      6      1     2  2.000000  0.000000     1\n",
       "3  16077620   4935000  16077620      5      2    18  2.444444  0.318182    16\n",
       "4  29050000  24000000  29050000     15      8     2  1.500000  0.000000    85"
      ],
      "text/html": "<div>\n<style scoped>\n    .dataframe tbody tr th:only-of-type {\n        vertical-align: middle;\n    }\n\n    .dataframe tbody tr th {\n        vertical-align: top;\n    }\n\n    .dataframe thead th {\n        text-align: right;\n    }\n</style>\n<table border=\"1\" class=\"dataframe\">\n  <thead>\n    <tr style=\"text-align: right;\">\n      <th></th>\n      <th>총구매액</th>\n      <th>최대구매액</th>\n      <th>환불금액</th>\n      <th>주구매상품</th>\n      <th>주구매지점</th>\n      <th>내점일수</th>\n      <th>내점당구매건수</th>\n      <th>주말방문비율</th>\n      <th>구매주기</th>\n    </tr>\n  </thead>\n  <tbody>\n    <tr>\n      <th>0</th>\n      <td>68282840</td>\n      <td>11264000</td>\n      <td>68282840</td>\n      <td>5</td>\n      <td>0</td>\n      <td>19</td>\n      <td>3.894737</td>\n      <td>0.527027</td>\n      <td>17</td>\n    </tr>\n    <tr>\n      <th>1</th>\n      <td>2136000</td>\n      <td>2136000</td>\n      <td>2136000</td>\n      <td>21</td>\n      <td>19</td>\n      <td>2</td>\n      <td>1.500000</td>\n      <td>0.000000</td>\n      <td>1</td>\n    </tr>\n    <tr>\n      <th>2</th>\n      <td>3197000</td>\n      <td>1639000</td>\n      <td>3197000</td>\n      <td>6</td>\n      <td>1</td>\n      <td>2</td>\n      <td>2.000000</td>\n      <td>0.000000</td>\n      <td>1</td>\n    </tr>\n    <tr>\n      <th>3</th>\n      <td>16077620</td>\n      <td>4935000</td>\n      <td>16077620</td>\n      <td>5</td>\n      <td>2</td>\n      <td>18</td>\n      <td>2.444444</td>\n      <td>0.318182</td>\n      <td>16</td>\n    </tr>\n    <tr>\n      <th>4</th>\n      <td>29050000</td>\n      <td>24000000</td>\n      <td>29050000</td>\n      <td>15</td>\n      <td>8</td>\n      <td>2</td>\n      <td>1.500000</td>\n      <td>0.000000</td>\n      <td>85</td>\n    </tr>\n  </tbody>\n</table>\n</div>"
     },
     "metadata": {},
     "execution_count": 28
    }
   ],
   "source": [
    "x_train.head()"
   ]
  },
  {
   "cell_type": "code",
   "execution_count": 36,
   "metadata": {},
   "outputs": [
    {
     "output_type": "execute_result",
     "data": {
      "text/plain": [
       "array([[0.58110572, 0.41889428],\n",
       "       [0.75936401, 0.24063599],\n",
       "       [0.73422022, 0.26577978],\n",
       "       ...,\n",
       "       [0.71708579, 0.28291421],\n",
       "       [0.59003753, 0.40996247],\n",
       "       [0.50073886, 0.49926114]])"
      ]
     },
     "metadata": {},
     "execution_count": 36
    }
   ],
   "source": [
    "# 로지스틱\n",
    "model = LogisticRegression().fit(x_train,y_train)\n",
    "model.score(x_train, y_train) # 0.623\n",
    "pred = model.predict_proba(x_test)\n",
    "pred\n"
   ]
  },
  {
   "cell_type": "code",
   "execution_count": 35,
   "metadata": {},
   "outputs": [
    {
     "output_type": "execute_result",
     "data": {
      "text/plain": [
       "array([[0.62275189, 0.37724811],\n",
       "       [0.62275189, 0.37724811],\n",
       "       [0.62275189, 0.37724811],\n",
       "       ...,\n",
       "       [0.62275189, 0.37724811],\n",
       "       [0.62275189, 0.37724811],\n",
       "       [0.62275189, 0.37724811]])"
      ]
     },
     "metadata": {},
     "execution_count": 35
    }
   ],
   "source": [
    "# SVM\n",
    "model_svm = SVC(C=10000, gamma=0.001, probability=True).fit(x_train, y_train)\n",
    "model_svm.score(x_train,y_train)\n",
    "model_svm.predict_proba(x_test)"
   ]
  },
  {
   "cell_type": "code",
   "execution_count": 39,
   "metadata": {},
   "outputs": [
    {
     "output_type": "execute_result",
     "data": {
      "text/plain": [
       "0.7085714285714285"
      ]
     },
     "metadata": {},
     "execution_count": 39
    }
   ],
   "source": [
    "# Gradient Boost\n",
    "from sklearn.ensemble import GradientBoostingClassifier\n",
    "\n",
    "gbc = GradientBoostingClassifier().fit(x_train,y_train)\n",
    "gbc.predict_proba(x_test)\n",
    "gbc.score(x_train,y_train)"
   ]
  },
  {
   "cell_type": "code",
   "execution_count": 42,
   "metadata": {},
   "outputs": [
    {
     "output_type": "execute_result",
     "data": {
      "text/plain": [
       "array([[0.27, 0.73],\n",
       "       [0.79, 0.21],\n",
       "       [0.49, 0.51],\n",
       "       ...,\n",
       "       [0.56, 0.44],\n",
       "       [0.57, 0.43],\n",
       "       [0.33, 0.67]])"
      ]
     },
     "metadata": {},
     "execution_count": 42
    }
   ],
   "source": [
    "# RandomForest\n",
    "from sklearn.ensemble import RandomForestClassifier\n",
    "rfc = RandomForestClassifier().fit(x_train,y_train)\n",
    "rfc.predict_proba(x_test)\n",
    "# rfc.score(x_train,y_train)\n",
    "roc_auc_score()"
   ]
  },
  {
   "cell_type": "code",
   "execution_count": 45,
   "metadata": {},
   "outputs": [
    {
     "output_type": "error",
     "ename": "ModuleNotFoundError",
     "evalue": "No module named 'seaborn'",
     "traceback": [
      "\u001b[1;31m---------------------------------------------------------------------------\u001b[0m",
      "\u001b[1;31mModuleNotFoundError\u001b[0m                       Traceback (most recent call last)",
      "\u001b[1;32m<ipython-input-45-d3e74aa4c840>\u001b[0m in \u001b[0;36m<module>\u001b[1;34m\u001b[0m\n\u001b[1;32m----> 1\u001b[1;33m \u001b[1;32mimport\u001b[0m \u001b[0mseaborn\u001b[0m \u001b[1;32mas\u001b[0m \u001b[0msns\u001b[0m\u001b[1;33m\u001b[0m\u001b[1;33m\u001b[0m\u001b[0m\n\u001b[0m\u001b[0;32m      2\u001b[0m \u001b[0msns\u001b[0m\u001b[1;33m.\u001b[0m\u001b[0mload_dataset\u001b[0m\u001b[1;33m(\u001b[0m\u001b[1;34m'titanic'\u001b[0m\u001b[1;33m)\u001b[0m\u001b[1;33m\u001b[0m\u001b[1;33m\u001b[0m\u001b[0m\n",
      "\u001b[1;31mModuleNotFoundError\u001b[0m: No module named 'seaborn'"
     ]
    }
   ],
   "source": [
    "import seaborn as sns\n",
    "sns.load_dataset('titanic')"
   ]
  },
  {
   "cell_type": "code",
   "execution_count": null,
   "metadata": {},
   "outputs": [],
   "source": []
  }
 ]
}